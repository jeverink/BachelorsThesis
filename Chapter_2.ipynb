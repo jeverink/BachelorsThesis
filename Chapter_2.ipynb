{
 "cells": [
  {
   "cell_type": "markdown",
   "metadata": {},
   "source": [
    "# Irregular elements and higher-order approximation"
   ]
  },
  {
   "cell_type": "markdown",
   "metadata": {},
   "source": [
    "#### Imports"
   ]
  },
  {
   "cell_type": "code",
   "execution_count": 407,
   "metadata": {},
   "outputs": [],
   "source": [
    "import matplotlib.pyplot as plt;\n",
    "import numpy as np;\n",
    "import numpy.linalg as linalg;\n",
    "import math;\n",
    "\n",
    "from sympy import *;\n",
    "from sympy.utilities import *;\n",
    "from ipywidgets import *;"
   ]
  },
  {
   "cell_type": "markdown",
   "metadata": {},
   "source": [
    "#### Constants"
   ]
  },
  {
   "cell_type": "code",
   "execution_count": 408,
   "metadata": {},
   "outputs": [],
   "source": [
    "# Symbol for symbolic expression\n",
    "x = Symbol('x');\n",
    "\n",
    "# Lagrange polynomial\n",
    "def lagrange(p, i):\n",
    "    width = 1.0/p;\n",
    "    this = i * width;\n",
    "    # Numerator\n",
    "    num = 1;\n",
    "    for j in range(0, p + 1):\n",
    "        if(j != i):\n",
    "            num = Mul(num, x - (j*width));\n",
    "    # Denominator\n",
    "    denom = 1;\n",
    "    for j in range(0, p + 1):\n",
    "        if(j != i):\n",
    "            denom = Mul(denom, this - (j*width));\n",
    "    denom = Pow(denom, -1);\n",
    "    return Mul(num, denom);\n",
    "\n",
    "degree = 4;\n",
    "phi = [];\n",
    "for i in range(0, degree + 1):\n",
    "    phi += [lagrange(degree, i)];\n",
    "\n",
    "# Constant\n",
    "c = 1;\n",
    "\n",
    "# Delta time\n",
    "dt = 0.0001;\n",
    "\n",
    "# Amount of iterations\n",
    "iterations = 150000;\n",
    "\n",
    "# Stepsize\n",
    "stepSize = 1000;\n",
    "\n",
    "# Time\n",
    "t = 0;"
   ]
  },
  {
   "cell_type": "markdown",
   "metadata": {},
   "source": [
    "#### Elements and nodes"
   ]
  },
  {
   "cell_type": "code",
   "execution_count": 409,
   "metadata": {},
   "outputs": [],
   "source": [
    "# Elements\n",
    "elements = [0, 0.1, 0.2, 0.3, 0.4, 0.5, 0.7, 0.9, 1.1, 1.3, 1.5, 2.0];\n",
    "elementCount = len(elements) - 1;\n",
    "\n",
    "# Extremal nodes\n",
    "minNode = min(elements);\n",
    "maxNode = max(elements);\n",
    "\n",
    "# Generate nodes\n",
    "nodeCount = 1 + (degree * elementCount);\n",
    "\n",
    "nodes = [];\n",
    "for i in range(0, elementCount):\n",
    "    elementWidth = elements[i + 1] - elements[i];\n",
    "    partWidth = elementWidth/degree;\n",
    "    for p in range(0, degree):\n",
    "        nodes += [elements[i] + (partWidth * p)];\n",
    "nodes += [maxNode];"
   ]
  },
  {
   "cell_type": "markdown",
   "metadata": {},
   "source": [
    "#### Matrix construction"
   ]
  },
  {
   "cell_type": "code",
   "execution_count": 410,
   "metadata": {},
   "outputs": [],
   "source": [
    "# Time coefficient matrix\n",
    "T = np.zeros((nodeCount, nodeCount));\n",
    "\n",
    "def integ(phi1, phi2, h):\n",
    "    product = Mul(phi1, phi2);\n",
    "    return h*integrate(product, (x, 0, 1));\n",
    "\n",
    "for i in range(0, elementCount):\n",
    "    elementWidth = elements[i + 1] - elements[i];\n",
    "    for n in range(0, degree + 1):\n",
    "        for m in range(0, degree + 1):\n",
    "            T[(degree * i) + n, (degree * i) + m] += integ(phi[n], phi[m], elementWidth);\n",
    "\n",
    "for i in range(0,nodeCount):\n",
    "    T[0,i]           = 0;\n",
    "    T[nodeCount-1,i] = 0;\n",
    "T[0,0] = 1;\n",
    "T[nodeCount-1,nodeCount-1] = 1;\n",
    "\n",
    "#Time coefficient matrix\n",
    "\n",
    "S = np.zeros((nodeCount, nodeCount));\n",
    "\n",
    "def diffInteg(phi1, phi2, h, trans, invtrans):\n",
    "    # Transform local to global\n",
    "    gPhi1 = phi1.subs(x, invtrans);\n",
    "    gPhi2 = phi2.subs(x, invtrans);\n",
    "    # Take global derivative\n",
    "    derGPhi1 = (diff(gPhi1, x));\n",
    "    derGPhi2 = (diff(gPhi2, x));\n",
    "    # Transform global to local\n",
    "    derPhi1 = derGPhi1.subs(x, trans);\n",
    "    derPhi2 = derGPhi2.subs(x, trans);\n",
    "    product = Mul(derPhi1, derPhi2);\n",
    "    return h*integrate(product, (x,0,1));\n",
    "\n",
    "for i in range(0, elementCount):\n",
    "    elementWidth = elements[i + 1] - elements[i];\n",
    "    transform = (elementWidth * x) + (elements[i]);\n",
    "    inversetransform = (x - elements[i])/elementWidth;\n",
    "    for n in range(0, degree + 1):\n",
    "        for m in range(0, degree + 1):\n",
    "            S[(degree * i) + n, (degree * i) + m] += diffInteg(phi[n], phi[m], elementWidth, transform, inversetransform);\n",
    "\n",
    "for i in range(0,nodeCount):\n",
    "    S[0,i]           = 0;\n",
    "    S[nodeCount-1,i] = 0;"
   ]
  },
  {
   "cell_type": "markdown",
   "metadata": {},
   "source": [
    "#### Iteration and evaluation"
   ]
  },
  {
   "cell_type": "code",
   "execution_count": 411,
   "metadata": {},
   "outputs": [],
   "source": [
    "# A single time step\n",
    "def iteration(v, vDer):\n",
    "    vNew = v + dt*vDer;\n",
    "    q = -c*c*S@v;\n",
    "    r = linalg.solve(T, q);\n",
    "    vDerNew = vDer + dt*r;\n",
    "    return (vNew, vDerNew);\n",
    "\n",
    "# Evaluation\n",
    "def ev(u, pos):\n",
    "    # Find element the pos(ition) is in\n",
    "    for i in range(0, elementCount):\n",
    "        if(elements[i] <= pos <= elements[i+1]):\n",
    "            elementWidth = elements[i + 1] - elements[i];\n",
    "            transformedPos = (pos - elements[i])/elementWidth;\n",
    "            # Calculate linear sum\n",
    "            sum = 0;\n",
    "            for p in range(0, degree+1):\n",
    "                sum += u[(i*degree) + p]*phi[p].subs(x, transformedPos);\n",
    "            return sum;\n",
    "    return 0;"
   ]
  },
  {
   "cell_type": "markdown",
   "metadata": {},
   "source": [
    "#### Initial value"
   ]
  },
  {
   "cell_type": "code",
   "execution_count": 412,
   "metadata": {},
   "outputs": [],
   "source": [
    "# The real solution\n",
    "def realU(x, t):\n",
    "    return np.cos(2*np.pi*t)*np.sin(2*np.pi*x) + np.cos(4*np.pi*t)*np.sin(4*np.pi*x) ;\n",
    "\n",
    "# Set initial value\n",
    "u    = np.zeros((nodeCount, 1));\n",
    "uDer = np.zeros((nodeCount, 1));\n",
    "\n",
    "k = 2*math.pi;\n",
    "\n",
    "for i in range(0, nodeCount):\n",
    "    coord   = nodes[i];\n",
    "    u[i]    = realU(coord, 0);\n",
    "    uDer[i] = 0;"
   ]
  },
  {
   "cell_type": "markdown",
   "metadata": {},
   "source": [
    "#### Interactive Simulation"
   ]
  },
  {
   "cell_type": "code",
   "execution_count": 413,
   "metadata": {},
   "outputs": [
    {
     "data": {
      "application/vnd.jupyter.widget-view+json": {
       "model_id": "201f13f4c15140418978b624bdd6c828",
       "version_major": 2,
       "version_minor": 0
      },
      "text/html": [
       "<p>Failed to display Jupyter Widget of type <code>interactive</code>.</p>\n",
       "<p>\n",
       "  If you're reading this message in the Jupyter Notebook or JupyterLab Notebook, it may mean\n",
       "  that the widgets JavaScript is still loading. If this message persists, it\n",
       "  likely means that the widgets JavaScript library is either not installed or\n",
       "  not enabled. See the <a href=\"https://ipywidgets.readthedocs.io/en/stable/user_install.html\">Jupyter\n",
       "  Widgets Documentation</a> for setup instructions.\n",
       "</p>\n",
       "<p>\n",
       "  If you're reading this message in another frontend (for example, a static\n",
       "  rendering on GitHub or <a href=\"https://nbviewer.jupyter.org/\">NBViewer</a>),\n",
       "  it may mean that your frontend doesn't currently support widgets.\n",
       "</p>\n"
      ],
      "text/plain": [
       "interactive(children=(IntSlider(value=0, description='t', max=150000, step=1000), Output()), _dom_classes=('widget-interact',))"
      ]
     },
     "metadata": {},
     "output_type": "display_data"
    }
   ],
   "source": [
    "data = [];\n",
    "data.append(u);\n",
    "bigspacing = np.linspace(0.0, 2.0, 100);\n",
    "\n",
    "uNew    = np.zeros((nodeCount, 1));\n",
    "uDerNew = np.zeros((nodeCount, 1));\n",
    "\n",
    "for i in range(0, iterations):\n",
    "    uNew, uDerNew = iteration(u,uDer);\n",
    "    u = uNew;\n",
    "    uDer = uDerNew;\n",
    "    data.append(u);\n",
    "    t += dt;\n",
    "\n",
    "def animation(t):\n",
    "    plt.rcParams[\"figure.figsize\"] = (6,4);\n",
    "    axes = plt.gca();\n",
    "    axes.set_ylim([-1.5,1.5]);\n",
    "    axes.set_xlim([0,2]);\n",
    "    plt.title(\"t = \" + str(t*dt));\n",
    "    plt.ylabel(\"u(x,t)\");\n",
    "    plt.xlabel(\"x\");\n",
    "    evaluation = np.linspace(0.0, 2.0, 100);\n",
    "    for i in range(0, 100):\n",
    "        evaluation[i] = ev(data[t], evaluation[i]);\n",
    "    plt.plot(bigspacing, realU(bigspacing, t*dt), \"r--\");\n",
    "    plt.plot(bigspacing, evaluation, \"b-\");\n",
    "    plt.plot(nodes, data[t], \"bo\");\n",
    "    plt.plot(elements, np.zeros((len(elements),1)), \"go\");\n",
    "    plt.plot([0,2],[0,0], \"g-\", linewidth=0.5);\n",
    "\n",
    "interact(animation, t = widgets.IntSlider(min = 0, max = iterations, step = stepSize, value = 0));"
   ]
  },
  {
   "cell_type": "markdown",
   "metadata": {},
   "source": [
    "#### Static plots"
   ]
  },
  {
   "cell_type": "code",
   "execution_count": 414,
   "metadata": {},
   "outputs": [
    {
     "name": "stdout",
     "output_type": "stream",
     "text": [
      "[0, 6666, 16666, 30000, 102500]\n"
     ]
    },
    {
     "data": {
      "image/png": "[encoded data removed]",
      "text/plain": [
       "<matplotlib.figure.Figure at 0x14c0672b860>"
      ]
     },
     "metadata": {},
     "output_type": "display_data"
    }
   ],
   "source": [
    "plt.rcParams[\"figure.figsize\"] = (6,12)\n",
    "\n",
    "timespace = [0, (int)(2.0/(3.0*dt)), (int)(5.0/(3.0*dt)), (int)(3.0/dt), (int)(10.25/dt)];\n",
    "\n",
    "print(timespace);\n",
    "\n",
    "maxY = 2;\n",
    "minY = -2;\n",
    "\n",
    "plt.subplots_adjust(hspace=.0);\n",
    "\n",
    "ax1 = plt.subplot(\"511\");\n",
    "ax1.set_ylim([minY, maxY]);\n",
    "ax1.set_xlim([0,2]);\n",
    "plt.plot(bigspacing, realU(bigspacing, timespace[0]*dt), \"r--\", label='actual');\n",
    "evaluation = np.linspace(0.0, 2.0, 100);\n",
    "for i in range(0, 100):\n",
    "    evaluation[i] = ev(data[timespace[0]], evaluation[i]);\n",
    "plt.plot(bigspacing, evaluation, \"b-\", label=\"numerical\");\n",
    "plt.plot(nodes, data[timespace[0]], \"bo\", label=\"nodes\");\n",
    "plt.plot(elements, np.zeros(len(elements)), \"go\", label=\"element boundaries\");\n",
    "plt.text(-0.55,0,\"t=\"+str(dt*timespace[0]));\n",
    "plt.text(-0.25,0.1,\"u(x,t)\", rotation=90);\n",
    "plt.text(0.975, 1.45, \"x\");\n",
    "plt.legend(bbox_to_anchor=(0.5, 1.2, 0., 0.1), loc=3,\n",
    "       ncol=2, mode=\"expand\", borderaxespad=0.)\n",
    "ax1.xaxis.tick_top();\n",
    "\n",
    "ax2 = plt.subplot(\"512\", sharex=ax1);\n",
    "ax2.set_ylim([minY, maxY]);\n",
    "ax2.set_xlim([0,2]);\n",
    "plt.plot(bigspacing, realU(bigspacing, timespace[1]*dt), \"r--\");\n",
    "evaluation = np.linspace(0.0, 2.0, 100);\n",
    "for i in range(0, 100):\n",
    "    evaluation[i] = ev(data[timespace[1]], evaluation[i]);\n",
    "plt.plot(bigspacing, evaluati on, \"b-\", label=\"numerical\");\n",
    "plt.plot(nodes, data[timespace[1]], \"bo\");\n",
    "plt.text(-0.55,0,\"t=0.6666\");#+str(dt*timespace[1]));\n",
    "plt.text(-0.25,0.1,\"u(x,t)\", rotation=90);\n",
    "plt.setp(ax2.get_xticklabels(), visible=False);\n",
    "\n",
    "ax3 = plt.subplot(\"513\", sharex=ax1);\n",
    "ax3.set_ylim([minY, maxY]);\n",
    "ax3.set_xlim([0,2]);\n",
    "plt.plot(bigspacing, realU(bigspacing, timespace[2]*dt), \"r--\");\n",
    "evaluation = np.linspace(0.0, 2.0, 100);\n",
    "for i in range(0, 100):\n",
    "    evaluation[i] = ev(data[timespace[2]], evaluation[i]);\n",
    "plt.plot(bigspacing, evaluation, \"b-\", label=\"numerical\");\n",
    "plt.plot(nodes, data[timespace[2]], \"bo\");\n",
    "plt.text(-0.55,0,\"t=\"+str(dt*timespace[2]));\n",
    "plt.text(-0.25,0.1,\"u(x,t)\", rotation=90);\n",
    "plt.setp(ax3.get_xticklabels(), visible=False);\n",
    "\n",
    "ax4 = plt.subplot(\"514\", sharex=ax1);\n",
    "ax4.set_ylim([minY, maxY]);\n",
    "ax4.set_xlim([0,2]);\n",
    "plt.plot(bigspacing, realU(bigspacing, timespace[3]*dt), \"r--\");\n",
    "evaluation = np.linspace(0.0, 2.0, 100);\n",
    "for i in range(0, 100):\n",
    "    evaluation[i] = ev(data[timespace[3]], evaluation[i]);\n",
    "plt.plot(bigspacing, evaluation, \"b-\", label=\"numerical\");\n",
    "plt.plot(nodes, data[timespace[3]], \"bo\");\n",
    "plt.text(-0.55,0,\"t=\"+str(dt*timespace[3]));\n",
    "plt.text(-0.25,0.1,\"u(x,t)\", rotation=90);\n",
    "plt.setp(ax4.get_xticklabels(), visible=False);\n",
    "\n",
    "ax5 = plt.subplot(\"515\", sharex=ax1);\n",
    "ax5.set_ylim([minY, maxY]);\n",
    "ax5.set_xlim([0,2]);\n",
    "plt.plot(bigspacing, realU(bigspacing, timespace[4]*dt), \"r--\");\n",
    "evaluation = np.linspace(0.0, 2.0, 100);\n",
    "for i in range(0, 100):\n",
    "    evaluation[i] = ev(data[timespace[4]], evaluation[i]);\n",
    "plt.plot(bigspacing, evaluation, \"b-\", label=\"numerical\");\n",
    "plt.text(-0.55,0,\"t=\"+str(dt*timespace[4]));\n",
    "plt.text(-0.25,0.1,\"u(x,t)\", rotation=90);\n",
    "plt.setp(ax5.get_xticklabels(), visible=False);"
   ]
  },
  {
   "cell_type": "code",
   "execution_count": null,
   "metadata": {},
   "outputs": [],
   "source": []
  }
 ],
 "metadata": {
  "kernelspec": {
   "display_name": "Python 3",
   "language": "python",
   "name": "python3"
  },
  "language_info": {
   "codemirror_mode": {
    "name": "ipython",
    "version": 3
   },
   "file_extension": ".py",
   "mimetype": "text/x-python",
   "name": "python",
   "nbconvert_exporter": "python",
   "pygments_lexer": "ipython3",
   "version": "3.6.4"
  }
 },
 "nbformat": 4,
 "nbformat_minor": 2
}
