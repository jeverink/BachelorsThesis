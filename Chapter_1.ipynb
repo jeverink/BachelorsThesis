{
 "cells": [
  {
   "cell_type": "markdown",
   "metadata": {},
   "source": [
    "# One-dimensional wave equation"
   ]
  },
  {
   "cell_type": "markdown",
   "metadata": {},
   "source": [
    "#### Imports"
   ]
  },
  {
   "cell_type": "code",
   "execution_count": 68,
   "metadata": {},
   "outputs": [],
   "source": [
    "import matplotlib.pyplot as plt;\n",
    "import numpy as np;\n",
    "import numpy.linalg as linalg;\n",
    "import math;\n",
    "\n",
    "from ipywidgets import *"
   ]
  },
  {
   "cell_type": "markdown",
   "metadata": {},
   "source": [
    "#### Constants"
   ]
  },
  {
   "cell_type": "code",
   "execution_count": 69,
   "metadata": {},
   "outputs": [],
   "source": [
    "# Amount of elements\n",
    "N = 20;\n",
    "\n",
    "# Amount of nodes\n",
    "n = N + 1;\n",
    "\n",
    "# Element size\n",
    "h = 1.0/N;\n",
    "\n",
    "# Constant\n",
    "c = 1;\n",
    "\n",
    "# Delta time\n",
    "dt = 0.001;\n",
    "\n",
    "# Amount of iterations\n",
    "iterations = 20000;\n",
    "\n",
    "# Stepsize\n",
    "stepSize = 100;"
   ]
  },
  {
   "cell_type": "markdown",
   "metadata": {},
   "source": [
    "#### Matrix construction"
   ]
  },
  {
   "cell_type": "code",
   "execution_count": 70,
   "metadata": {},
   "outputs": [],
   "source": [
    "# Time coefficient matrix\n",
    "T = np.zeros((n, n));\n",
    "\n",
    "T[0, 0] = 1; # Left boundary\n",
    "T[N, N] = 1; # Right boundary\n",
    "\n",
    "for i in range(1, N):\n",
    "    for j in range(0, N+1):\n",
    "        if(i==j):\n",
    "            T[i, j] = (2.0/3.0)*h;\n",
    "        if(abs(i-j) == 1):\n",
    "            T[i, j] = (1.0/6.0)*h;\n",
    "\n",
    "# Space coefficient matrix\n",
    "S = np.zeros((n, n));\n",
    "\n",
    "for i in range(1, N):\n",
    "    for j in range(0, N+1):\n",
    "        if(i==j):\n",
    "            S[i, j] = (2.0/h);\n",
    "        if(abs(i-j)== 1):\n",
    "            S[i, j] = -(1.0/h);"
   ]
  },
  {
   "cell_type": "markdown",
   "metadata": {},
   "source": [
    "#### Iteration"
   ]
  },
  {
   "cell_type": "code",
   "execution_count": 71,
   "metadata": {},
   "outputs": [],
   "source": [
    "# A single time step\n",
    "def iteration(v, vDer):\n",
    "    vNew = v + dt*vDer;\n",
    "    q = -c*c*S@v;\n",
    "    r = linalg.solve(T, q);\n",
    "    vDerNew = vDer + dt*r;\n",
    "    return (vNew, vDerNew);"
   ]
  },
  {
   "cell_type": "markdown",
   "metadata": {},
   "source": [
    "#### Initial value"
   ]
  },
  {
   "cell_type": "code",
   "execution_count": 72,
   "metadata": {},
   "outputs": [],
   "source": [
    "# The real solution\n",
    "def realU(x, t):\n",
    "    return np.cos(2*np.pi*t)*np.sin(2*np.pi*x);\n",
    "\n",
    "# The initial value of the finite element problem\n",
    "u = np.zeros((n, 1));\n",
    "uDer = np.zeros((n, 1));\n",
    "\n",
    "for i in range(0, n):\n",
    "    x = i*h;\n",
    "    u[i] = realU(x, 0);"
   ]
  },
  {
   "cell_type": "markdown",
   "metadata": {},
   "source": [
    "#### Interactive Simulation"
   ]
  },
  {
   "cell_type": "code",
   "execution_count": 73,
   "metadata": {},
   "outputs": [
    {
     "data": {
      "application/vnd.jupyter.widget-view+json": {
       "model_id": "4ffb239f5be44efc8e29e855e82c2880",
       "version_major": 2,
       "version_minor": 0
      },
      "text/html": [
       "<p>Failed to display Jupyter Widget of type <code>interactive</code>.</p>\n",
       "<p>\n",
       "  If you're reading this message in the Jupyter Notebook or JupyterLab Notebook, it may mean\n",
       "  that the widgets JavaScript is still loading. If this message persists, it\n",
       "  likely means that the widgets JavaScript library is either not installed or\n",
       "  not enabled. See the <a href=\"https://ipywidgets.readthedocs.io/en/stable/user_install.html\">Jupyter\n",
       "  Widgets Documentation</a> for setup instructions.\n",
       "</p>\n",
       "<p>\n",
       "  If you're reading this message in another frontend (for example, a static\n",
       "  rendering on GitHub or <a href=\"https://nbviewer.jupyter.org/\">NBViewer</a>),\n",
       "  it may mean that your frontend doesn't currently support widgets.\n",
       "</p>\n"
      ],
      "text/plain": [
       "interactive(children=(IntSlider(value=0, description='t', max=20000, step=100), Output()), _dom_classes=('widget-interact',))"
      ]
     },
     "metadata": {},
     "output_type": "display_data"
    }
   ],
   "source": [
    "data = [];\n",
    "data.append(u);\n",
    "spacing = np.linspace(0.0, 1.0, n);\n",
    "bigspacing = np.linspace(0.0, 1.0, 100);\n",
    "    \n",
    "for i in range(0, iterations):\n",
    "    (uNew, uDerNew) = iteration(u, uDer);\n",
    "    u = uNew;\n",
    "    uDer = uDerNew;\n",
    "    data.append(u);\n",
    "\n",
    "def animation(t):\n",
    "    plt.rcParams[\"figure.figsize\"] = (6,3);\n",
    "    axes = plt.gca();\n",
    "    axes.set_ylim([-1.5,1.5]);\n",
    "    axes.set_xlim([0,1]);\n",
    "    plt.title(\"t = \" + str(t*dt));\n",
    "    plt.ylabel(\"u(x,t)\");\n",
    "    plt.xlabel(\"x\");\n",
    "    plt.plot(bigspacing, realU(bigspacing, t*dt), \"r--\");\n",
    "    plt.plot(spacing, data[t], \"b-\");\n",
    "\n",
    "interact(animation, t = widgets.IntSlider(min = 0, max = iterations, step = stepSize, value = 0));"
   ]
  },
  {
   "cell_type": "markdown",
   "metadata": {},
   "source": [
    "#### Static Plots"
   ]
  },
  {
   "cell_type": "code",
   "execution_count": 74,
   "metadata": {},
   "outputs": [
    {
     "name": "stdout",
     "output_type": "stream",
     "text": [
      "[0, 333, 666, 1000, 3250]\n"
     ]
    },
    {
     "data": {
      "image/png": "[encoded data removed]",
      "text/plain": [
       "<matplotlib.figure.Figure at 0x24039893668>"
      ]
     },
     "metadata": {},
     "output_type": "display_data"
    }
   ],
   "source": [
    "\n",
    "plt.rcParams[\"figure.figsize\"] = (3,12)\n",
    "\n",
    "timespace = [0, (int)(1.0/(3.0*dt)), (int)(2.0/(3.0*dt)), (int)(1.0/dt), (int)(3.25/dt)];\n",
    "\n",
    "print(timespace);\n",
    "\n",
    "plt.subplots_adjust(hspace=.0);\n",
    "\n",
    "ax1 = plt.subplot(\"511\");\n",
    "ax1.set_ylim([-1.1,1.1]);\n",
    "ax1.set_xlim([0,1]);\n",
    "plt.plot(bigspacing, realU(bigspacing, timespace[0]*dt), \"r--\", label='actual');\n",
    "plt.plot(spacing, data[timespace[0]], \"bo\");\n",
    "plt.plot(spacing, data[timespace[0]], \"b-\", label=\"numerical\");\n",
    "plt.text(-0.55,0,\"t=\"+str(dt*timespace[0]));\n",
    "plt.text(-0.25,0.1,\"u(x,t)\", rotation=90);\n",
    "plt.text(0.475, 1.4, \"x\");\n",
    "plt.legend(bbox_to_anchor=(0.5, 1.2, 0., 0.1), loc=3,\n",
    "       ncol=2, mode=\"expand\", borderaxespad=0.)\n",
    "ax1.xaxis.tick_top();\n",
    "\n",
    "ax2 = plt.subplot(\"512\", sharex=ax1);\n",
    "ax2.set_ylim([-1.1,1.1]);\n",
    "ax2.set_xlim([0,1]);\n",
    "plt.plot(bigspacing, realU(bigspacing, timespace[1]*dt), \"r--\");\n",
    "plt.plot(spacing, data[timespace[1]], \"bo\");\n",
    "plt.plot(spacing, data[timespace[1]], \"b-\");\n",
    "plt.text(-0.55,0,\"t=\"+str(dt*timespace[1]));\n",
    "plt.text(-0.25,0.1,\"u(x,t)\", rotation=90);\n",
    "plt.setp(ax2.get_xticklabels(), visible=False);\n",
    "\n",
    "ax3 = plt.subplot(\"513\", sharex=ax1);\n",
    "ax3.set_ylim([-1.1,1.1]);\n",
    "ax3.set_xlim([0,1]);\n",
    "plt.plot(bigspacing, realU(bigspacing, timespace[2]*dt), \"r--\");\n",
    "plt.plot(spacing, data[timespace[2]], \"bo\");\n",
    "plt.plot(spacing, data[timespace[2]], \"b-\");\n",
    "plt.text(-0.55,0,\"t=\"+str(dt*timespace[2]));\n",
    "plt.text(-0.25,0.1,\"u(x,t)\", rotation=90);\n",
    "plt.setp(ax3.get_xticklabels(), visible=False);\n",
    "\n",
    "ax4 = plt.subplot(\"514\", sharex=ax1);\n",
    "ax4.set_ylim([-1.1,1.1]);\n",
    "ax4.set_xlim([0,1]);plt.plot(bigspacing, realU(bigspacing, timespace[3]*dt), \"r--\");\n",
    "plt.plot(spacing, data[timespace[3]], \"bo\");\n",
    "plt.plot(spacing, data[timespace[3]], \"b-\");\n",
    "plt.text(-0.55,0,\"t=\"+str(dt*timespace[3]));\n",
    "plt.text(-0.25,0.1,\"u(x,t)\", rotation=90);\n",
    "plt.setp(ax2.get_xticklabels(), visible=False);\n",
    "plt.setp(ax4.get_xticklabels(), visible=False);\n",
    "\n",
    "ax5 = plt.subplot(\"515\", sharex=ax1);\n",
    "ax5.set_ylim([-1.1,1.1]);\n",
    "ax5.set_xlim([0,1]);plt.plot(bigspacing, realU(bigspacing, timespace[4]*dt), \"r--\");\n",
    "plt.plot(spacing, data[timespace[4]], \"bo\");\n",
    "plt.plot(spacing, data[timespace[4]], \"b-\");\n",
    "plt.text(-0.55,0,\"t=\"+str(dt*timespace[4]));\n",
    "plt.text(-0.25,0.1,\"u(x,t)\", rotation=90);"
   ]
  },
  {
   "cell_type": "code",
   "execution_count": null,
   "metadata": {},
   "outputs": [],
   "source": []
  }
 ],
 "metadata": {
  "kernelspec": {
   "display_name": "Python 3",
   "language": "python",
   "name": "python3"
  },
  "language_info": {
   "codemirror_mode": {
    "name": "ipython",
    "version": 3
   },
   "file_extension": ".py",
   "mimetype": "text/x-python",
   "name": "python",
   "nbconvert_exporter": "python",
   "pygments_lexer": "ipython3",
   "version": "3.6.4"
  }
 },
 "nbformat": 4,
 "nbformat_minor": 2
}
